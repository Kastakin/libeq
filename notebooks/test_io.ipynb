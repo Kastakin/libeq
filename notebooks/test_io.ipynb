{
 "cells": [
  {
   "cell_type": "code",
   "execution_count": 1,
   "metadata": {},
   "outputs": [],
   "source": [
    "from libeq.data_structure import SolverData\n",
    "\n",
    "# Create SolverData object\n",
    "h6l_data = SolverData.load_from_bstac(\"/Users/lorenzo/Downloads/qb64pe/H6L\")\n",
    "# h6l_data.potentiometry_options.px_range = [1.7,0]"
   ]
  },
  {
   "cell_type": "code",
   "execution_count": 2,
   "metadata": {},
   "outputs": [],
   "source": [
    "data = h6l_data.to_pyes(format=\"json\")\n",
    "\n",
    "with open(\n",
    "    \"libeq_h6l.json\",\n",
    "    \"w\",\n",
    ") as out_file:\n",
    "    out_file.write(data)"
   ]
  }
 ],
 "metadata": {
  "kernelspec": {
   "display_name": "libeq-8i_JZAyh-py3.12",
   "language": "python",
   "name": "python3"
  },
  "language_info": {
   "codemirror_mode": {
    "name": "ipython",
    "version": 3
   },
   "file_extension": ".py",
   "mimetype": "text/x-python",
   "name": "python",
   "nbconvert_exporter": "python",
   "pygments_lexer": "ipython3",
   "version": "3.12.1"
  }
 },
 "nbformat": 4,
 "nbformat_minor": 2
}
