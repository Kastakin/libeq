{
 "cells": [
  {
   "cell_type": "code",
   "execution_count": 1,
   "metadata": {},
   "outputs": [],
   "source": [
    "from pydantic import BaseModel, computed_field\n",
    "from functools import cached_property\n",
    "\n",
    "\n",
    "class Foo(BaseModel):\n",
    "    a: int\n",
    "    b: int\n",
    "\n",
    "    @computed_field\n",
    "    @cached_property\n",
    "    def d(self) -> int:\n",
    "        return self.c * 2\n",
    "\n",
    "    @computed_field\n",
    "    @cached_property\n",
    "    def c(self) -> int:\n",
    "        return self.a + self.b"
   ]
  },
  {
   "cell_type": "code",
   "execution_count": 2,
   "metadata": {},
   "outputs": [
    {
     "data": {
      "text/plain": [
       "6"
      ]
     },
     "execution_count": 2,
     "metadata": {},
     "output_type": "execute_result"
    }
   ],
   "source": [
    "Foo(a=1, b=2).d"
   ]
  }
 ],
 "metadata": {
  "kernelspec": {
   "display_name": "libeq-8i_JZAyh-py3.12",
   "language": "python",
   "name": "python3"
  },
  "language_info": {
   "codemirror_mode": {
    "name": "ipython",
    "version": 3
   },
   "file_extension": ".py",
   "mimetype": "text/x-python",
   "name": "python",
   "nbconvert_exporter": "python",
   "pygments_lexer": "ipython3",
   "version": "3.12.1"
  }
 },
 "nbformat": 4,
 "nbformat_minor": 2
}
