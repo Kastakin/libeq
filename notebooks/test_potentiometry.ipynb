{
 "cells": [
  {
   "cell_type": "code",
   "execution_count": 1,
   "metadata": {},
   "outputs": [],
   "source": [
    "from libeq.data_structure import SolverData\n",
    "from libeq.optimizers import PotentiometryOptimizer\n",
    "\n",
    "# Create SolverData object\n",
    "h6l_data = SolverData.load_from_bstac(\"/Users/lorenzo/Downloads/qb64pe/Zn-EDTA\")\n",
    "# h6l_data.potentiometry_options.px_range = [1.7,0]"
   ]
  },
  {
   "cell_type": "code",
   "execution_count": 2,
   "metadata": {},
   "outputs": [
    {
     "name": "stdout",
     "output_type": "stream",
     "text": [
      "calculated\n",
      "[1.7, 12.0]\n",
      "2\n",
      "59.13\n",
      "2\n",
      "59.16\n"
     ]
    }
   ],
   "source": [
    "print(h6l_data.potentiometry_options.weights)\n",
    "print(h6l_data.potentiometry_options.px_range)\n",
    "for t in h6l_data.potentiometry_options.titrations:\n",
    "    print(t.electro_active_compoment)\n",
    "    print(t.slope)\n",
    "    # t.slope=(25 + 273.15) / 11.6048 * 2.303"
   ]
  },
  {
   "cell_type": "code",
   "execution_count": 5,
   "metadata": {},
   "outputs": [
    {
     "name": "stdout",
     "output_type": "stream",
     "text": [
      "iteration n.1\n",
      "x [16.4  19.6   4.61]\n",
      "dx [-0.56357074 -0.20930437 -1.10539391]\n",
      "sigma 0.5561585173178419\n",
      "----------------\n",
      "\n",
      "0.0\n",
      "iteration n.2\n",
      "x [15.83642926 19.39069563  3.50460609]\n",
      "dx [-0.01234483 -0.03401301 -0.27394181]\n",
      "sigma 0.5537794816407159\n",
      "----------------\n",
      "\n",
      "0.0\n",
      "iteration n.3\n",
      "x [15.82408442 19.35668262  3.23066427]\n",
      "dx [ 0.00023331  0.00031086 -0.04707438]\n",
      "sigma 0.5537526443874203\n",
      "----------------\n",
      "\n",
      "0.0\n",
      "iteration n.4\n",
      "x [15.82431773 19.35699348  3.1835899 ]\n",
      "dx [-7.45805781e-07 -1.31992435e-06  3.04076897e-03]\n",
      "sigma 0.553752552659135\n",
      "----------------\n",
      "\n"
     ]
    }
   ],
   "source": [
    "constants, *_ = PotentiometryOptimizer(h6l_data)"
   ]
  },
  {
   "cell_type": "code",
   "execution_count": 4,
   "metadata": {},
   "outputs": [
    {
     "data": {
      "text/plain": [
       "array([15.82431699, 19.35699216,  3.18663067])"
      ]
     },
     "execution_count": 4,
     "metadata": {},
     "output_type": "execute_result"
    }
   ],
   "source": [
    "constants"
   ]
  }
 ],
 "metadata": {
  "kernelspec": {
   "display_name": "libeq-8i_JZAyh-py3.12",
   "language": "python",
   "name": "python3"
  },
  "language_info": {
   "codemirror_mode": {
    "name": "ipython",
    "version": 3
   },
   "file_extension": ".py",
   "mimetype": "text/x-python",
   "name": "python",
   "nbconvert_exporter": "python",
   "pygments_lexer": "ipython3",
   "version": "3.12.1"
  }
 },
 "nbformat": 4,
 "nbformat_minor": 2
}
