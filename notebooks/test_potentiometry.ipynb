{
 "cells": [
  {
   "cell_type": "code",
   "execution_count": 1,
   "metadata": {},
   "outputs": [],
   "source": [
    "from libeq.data_structure import SolverData\n",
    "from libeq.optimizers import PotentiometryOptimizer\n",
    "import numpy as np\n",
    "\n",
    "# Create SolverData object\n",
    "h6l_data = SolverData.load_from_bstac(\"/Users/lorenzo/Downloads/qb64pe/H6L\")\n",
    "# h6l_data.potentiometry_options.px_range = [1.7,0]"
   ]
  },
  {
   "cell_type": "code",
   "execution_count": 2,
   "metadata": {},
   "outputs": [
    {
     "name": "stdout",
     "output_type": "stream",
     "text": [
      "calculated\n",
      "[0.0, 0.0]\n",
      "1\n",
      "59.16857248724665\n",
      "0.15 0.005\n",
      "1\n",
      "59.16857248724665\n",
      "0.15 0.005\n",
      "1\n",
      "59.16857248724665\n",
      "0.15 0.005\n",
      "1\n",
      "59.16857248724665\n",
      "0.15 0.005\n",
      "1\n",
      "59.16857248724665\n",
      "0.15 0.005\n",
      "1\n",
      "59.16857248724665\n",
      "0.15 0.005\n"
     ]
    }
   ],
   "source": [
    "print(h6l_data.potentiometry_options.weights)\n",
    "print(h6l_data.potentiometry_options.px_range)\n",
    "for t in h6l_data.potentiometry_options.titrations:\n",
    "    print(t.electro_active_compoment)\n",
    "    print(t.slope)\n",
    "    print(t.e0_sigma, t.v0_sigma)\n",
    "    # t.slope=(25 + 273.15) / 11.6048 * 2.303"
   ]
  },
  {
   "cell_type": "code",
   "execution_count": 3,
   "metadata": {},
   "outputs": [
    {
     "name": "stdout",
     "output_type": "stream",
     "text": [
      "iteration n.1\n",
      "x [10. 18. 24. 28. 31. 33.]\n",
      "dx [0.00994927 0.01350882 0.01647575 0.01884725 0.01983378 0.02567903]\n",
      "sigma 0.09381376535237176\n",
      "----------------\n",
      "\n",
      "iteration n.2\n",
      "x [10.00994927 18.01350882 24.01647575 28.01884725 31.01983378 33.02567903]\n",
      "dx [6.99035854e-05 6.61039438e-05 6.72791516e-05 6.66398169e-05\n",
      " 6.80422950e-05 4.16810120e-05]\n",
      "sigma 0.09381372171389464\n",
      "----------------\n",
      "\n"
     ]
    }
   ],
   "source": [
    "constants, concentrations, b_error, cor_matrix, cov_matrix, return_extra = (\n",
    "    PotentiometryOptimizer(h6l_data)\n",
    ")"
   ]
  },
  {
   "cell_type": "code",
   "execution_count": 4,
   "metadata": {},
   "outputs": [
    {
     "name": "stdout",
     "output_type": "stream",
     "text": [
      "Constants:\n",
      "10.009949268841277 0.0032915045872157237\n",
      "18.013508815748896 0.004592013813940182\n",
      "24.01647574853225 0.005588411929865904\n",
      "28.01884725126332 0.006510533120991051\n",
      "31.01983378459971 0.006752431177731802\n",
      "33.0256790305685 0.010041961686094789\n",
      "--------------------\n",
      "Concentrations:\n",
      "[[1.75803873e-22 4.38439193e-03 3.87338468e-12 ... 6.78442690e-04\n",
      "  2.98132327e-03 1.32484077e-03]\n",
      " [2.63820325e-22 4.04562301e-03 4.19773086e-12 ... 7.38069304e-04\n",
      "  2.99274068e-03 1.22715591e-03]\n",
      " [4.02499675e-22 3.71896031e-03 4.56644737e-12 ... 8.04079447e-04\n",
      "  2.99714006e-03 1.12972783e-03]\n",
      " ...\n",
      " [2.91455491e-03 2.21509601e-12 7.66668191e-03 ... 7.32807177e-22\n",
      "  1.62692976e-30 3.65263776e-40]\n",
      " [2.90285943e-03 2.08231434e-12 8.15555853e-03 ... 5.69978430e-22\n",
      "  1.18957340e-30 2.51063039e-40]\n",
      " [2.88471872e-03 1.91243697e-12 8.87999805e-03 ... 4.02994614e-22\n",
      "  7.72454494e-31 1.49728778e-40]]\n",
      "--------------------\n",
      "Correlation matrix:\n",
      "[[1.         0.6163679  0.51708922 0.44251069 0.42761103 0.28666258]\n",
      " [0.6163679  1.         0.758754   0.65926421 0.62997496 0.42880189]\n",
      " [0.51708922 0.758754   1.         0.80746803 0.81497541 0.51459288]\n",
      " [0.44251069 0.65926421 0.80746803 1.         0.71807925 0.71460492]\n",
      " [0.42761103 0.62997496 0.81497541 0.71807925 1.         0.29746219]\n",
      " [0.28666258 0.42880189 0.51459288 0.71460492 0.29746219 1.        ]]\n",
      "--------------------\n"
     ]
    }
   ],
   "source": [
    "print(\"Constants:\")\n",
    "for b, e in zip(constants, b_error):\n",
    "    print(b, e)\n",
    "print(\"-\" * 20)\n",
    "\n",
    "print(\"Concentrations:\")\n",
    "print(concentrations)\n",
    "print(\"-\" * 20)\n",
    "\n",
    "\n",
    "print(\"Correlation matrix:\")\n",
    "print(cor_matrix)\n",
    "print(\"-\" * 20)"
   ]
  },
  {
   "cell_type": "code",
   "execution_count": 5,
   "metadata": {},
   "outputs": [
    {
     "data": {
      "text/plain": [
       "array([0.00329091, 0.00459119, 0.00558741, 0.00650936, 0.00675121,\n",
       "       0.01004015])"
      ]
     },
     "execution_count": 5,
     "metadata": {},
     "output_type": "execute_result"
    }
   ],
   "source": [
    "np.sqrt(np.diag(cov_matrix)) / 2.303"
   ]
  }
 ],
 "metadata": {
  "kernelspec": {
   "display_name": "libeq-8i_JZAyh-py3.12",
   "language": "python",
   "name": "python3"
  },
  "language_info": {
   "codemirror_mode": {
    "name": "ipython",
    "version": 3
   },
   "file_extension": ".py",
   "mimetype": "text/x-python",
   "name": "python",
   "nbconvert_exporter": "python",
   "pygments_lexer": "ipython3",
   "version": "3.12.1"
  }
 },
 "nbformat": 4,
 "nbformat_minor": 2
}
