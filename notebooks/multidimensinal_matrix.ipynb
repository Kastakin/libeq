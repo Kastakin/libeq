{
 "cells": [
  {
   "cell_type": "code",
   "execution_count": 5,
   "metadata": {},
   "outputs": [],
   "source": [
    "import numpy as np\n",
    "from libeq.data_structure import SolverData\n",
    "from libeq import EqSolver\n",
    "from libeq.solver import species_concentration, fobj, damping\n",
    "import numpy as np\n",
    "\n",
    "# Create SolverData object\n",
    "solver_data = SolverData.load_from_bstac(\n",
    "    \"/Users/lorenzo/Coding/libeq/notebooks/Zn-EDTA\"\n",
    ")"
   ]
  },
  {
   "cell_type": "code",
   "execution_count": 6,
   "metadata": {},
   "outputs": [
    {
     "data": {
      "text/plain": [
       "(89, 3)"
      ]
     },
     "execution_count": 6,
     "metadata": {},
     "output_type": "execute_result"
    }
   ],
   "source": [
    "stoichiometry = solver_data.stoichiometry\n",
    "c = solver_data.c0\n",
    "log_beta = solver_data.log_beta\n",
    "solid_stoichiometry = solver_data.solid_stoichiometry\n",
    "full_stoichiometry = np.concatenate((np.eye(solver_data.nc), stoichiometry), axis=1)\n",
    "c = np.repeat(c[np.newaxis, :], 89, axis=0)\n",
    "c.shape"
   ]
  },
  {
   "cell_type": "code",
   "execution_count": 8,
   "metadata": {},
   "outputs": [
    {
     "data": {
      "text/plain": [
       "array([[4.42533526e+12, 7.17372840e+12, 1.57122621e+13],\n",
       "       [4.42533526e+12, 7.17372840e+12, 1.57122621e+13],\n",
       "       [4.42533526e+12, 7.17372840e+12, 1.57122621e+13],\n",
       "       [4.42533526e+12, 7.17372840e+12, 1.57122621e+13],\n",
       "       [4.42533526e+12, 7.17372840e+12, 1.57122621e+13],\n",
       "       [4.42533526e+12, 7.17372840e+12, 1.57122621e+13],\n",
       "       [4.42533526e+12, 7.17372840e+12, 1.57122621e+13],\n",
       "       [4.42533526e+12, 7.17372840e+12, 1.57122621e+13],\n",
       "       [4.42533526e+12, 7.17372840e+12, 1.57122621e+13],\n",
       "       [4.42533526e+12, 7.17372840e+12, 1.57122621e+13],\n",
       "       [4.42533526e+12, 7.17372840e+12, 1.57122621e+13],\n",
       "       [4.42533526e+12, 7.17372840e+12, 1.57122621e+13],\n",
       "       [4.42533526e+12, 7.17372840e+12, 1.57122621e+13],\n",
       "       [4.42533526e+12, 7.17372840e+12, 1.57122621e+13],\n",
       "       [4.42533526e+12, 7.17372840e+12, 1.57122621e+13],\n",
       "       [4.42533526e+12, 7.17372840e+12, 1.57122621e+13],\n",
       "       [4.42533526e+12, 7.17372840e+12, 1.57122621e+13],\n",
       "       [4.42533526e+12, 7.17372840e+12, 1.57122621e+13],\n",
       "       [4.42533526e+12, 7.17372840e+12, 1.57122621e+13],\n",
       "       [4.42533526e+12, 7.17372840e+12, 1.57122621e+13],\n",
       "       [4.42533526e+12, 7.17372840e+12, 1.57122621e+13],\n",
       "       [4.42533526e+12, 7.17372840e+12, 1.57122621e+13],\n",
       "       [4.42533526e+12, 7.17372840e+12, 1.57122621e+13],\n",
       "       [4.42533526e+12, 7.17372840e+12, 1.57122621e+13],\n",
       "       [4.42533526e+12, 7.17372840e+12, 1.57122621e+13],\n",
       "       [4.42533526e+12, 7.17372840e+12, 1.57122621e+13],\n",
       "       [4.42533526e+12, 7.17372840e+12, 1.57122621e+13],\n",
       "       [4.42533526e+12, 7.17372840e+12, 1.57122621e+13],\n",
       "       [4.42533526e+12, 7.17372840e+12, 1.57122621e+13],\n",
       "       [4.42533526e+12, 7.17372840e+12, 1.57122621e+13],\n",
       "       [4.42533526e+12, 7.17372840e+12, 1.57122621e+13],\n",
       "       [4.42533526e+12, 7.17372840e+12, 1.57122621e+13],\n",
       "       [4.42533526e+12, 7.17372840e+12, 1.57122621e+13],\n",
       "       [4.42533526e+12, 7.17372840e+12, 1.57122621e+13],\n",
       "       [4.42533526e+12, 7.17372840e+12, 1.57122621e+13],\n",
       "       [4.42533526e+12, 7.17372840e+12, 1.57122621e+13],\n",
       "       [4.42533526e+12, 7.17372840e+12, 1.57122621e+13],\n",
       "       [4.42533526e+12, 7.17372840e+12, 1.57122621e+13],\n",
       "       [4.42533526e+12, 7.17372840e+12, 1.57122621e+13],\n",
       "       [4.42533526e+12, 7.17372840e+12, 1.57122621e+13],\n",
       "       [4.42533526e+12, 7.17372840e+12, 1.57122621e+13],\n",
       "       [4.42533526e+12, 7.17372840e+12, 1.57122621e+13],\n",
       "       [4.42533526e+12, 7.17372840e+12, 1.57122621e+13],\n",
       "       [4.42533526e+12, 7.17372840e+12, 1.57122621e+13],\n",
       "       [4.42533526e+12, 7.17372840e+12, 1.57122621e+13],\n",
       "       [4.42533526e+12, 7.17372840e+12, 1.57122621e+13],\n",
       "       [4.42533526e+12, 7.17372840e+12, 1.57122621e+13],\n",
       "       [4.42533526e+12, 7.17372840e+12, 1.57122621e+13],\n",
       "       [4.42533526e+12, 7.17372840e+12, 1.57122621e+13],\n",
       "       [4.42533526e+12, 7.17372840e+12, 1.57122621e+13],\n",
       "       [4.42533526e+12, 7.17372840e+12, 1.57122621e+13],\n",
       "       [4.42533526e+12, 7.17372840e+12, 1.57122621e+13],\n",
       "       [4.42533526e+12, 7.17372840e+12, 1.57122621e+13],\n",
       "       [4.42533526e+12, 7.17372840e+12, 1.57122621e+13],\n",
       "       [4.42533526e+12, 7.17372840e+12, 1.57122621e+13],\n",
       "       [4.42533526e+12, 7.17372840e+12, 1.57122621e+13],\n",
       "       [4.42533526e+12, 7.17372840e+12, 1.57122621e+13],\n",
       "       [4.42533526e+12, 7.17372840e+12, 1.57122621e+13],\n",
       "       [4.42533526e+12, 7.17372840e+12, 1.57122621e+13],\n",
       "       [4.42533526e+12, 7.17372840e+12, 1.57122621e+13],\n",
       "       [4.42533526e+12, 7.17372840e+12, 1.57122621e+13],\n",
       "       [4.42533526e+12, 7.17372840e+12, 1.57122621e+13],\n",
       "       [4.42533526e+12, 7.17372840e+12, 1.57122621e+13],\n",
       "       [4.42533526e+12, 7.17372840e+12, 1.57122621e+13],\n",
       "       [4.42533526e+12, 7.17372840e+12, 1.57122621e+13],\n",
       "       [4.42533526e+12, 7.17372840e+12, 1.57122621e+13],\n",
       "       [4.42533526e+12, 7.17372840e+12, 1.57122621e+13],\n",
       "       [4.42533526e+12, 7.17372840e+12, 1.57122621e+13],\n",
       "       [4.42533526e+12, 7.17372840e+12, 1.57122621e+13],\n",
       "       [4.42533526e+12, 7.17372840e+12, 1.57122621e+13],\n",
       "       [4.42533526e+12, 7.17372840e+12, 1.57122621e+13],\n",
       "       [4.42533526e+12, 7.17372840e+12, 1.57122621e+13],\n",
       "       [4.42533526e+12, 7.17372840e+12, 1.57122621e+13],\n",
       "       [4.42533526e+12, 7.17372840e+12, 1.57122621e+13],\n",
       "       [4.42533526e+12, 7.17372840e+12, 1.57122621e+13],\n",
       "       [4.42533526e+12, 7.17372840e+12, 1.57122621e+13],\n",
       "       [4.42533526e+12, 7.17372840e+12, 1.57122621e+13],\n",
       "       [4.42533526e+12, 7.17372840e+12, 1.57122621e+13],\n",
       "       [4.42533526e+12, 7.17372840e+12, 1.57122621e+13],\n",
       "       [4.42533526e+12, 7.17372840e+12, 1.57122621e+13],\n",
       "       [4.42533526e+12, 7.17372840e+12, 1.57122621e+13],\n",
       "       [4.42533526e+12, 7.17372840e+12, 1.57122621e+13],\n",
       "       [4.42533526e+12, 7.17372840e+12, 1.57122621e+13],\n",
       "       [4.42533526e+12, 7.17372840e+12, 1.57122621e+13],\n",
       "       [4.42533526e+12, 7.17372840e+12, 1.57122621e+13],\n",
       "       [4.42533526e+12, 7.17372840e+12, 1.57122621e+13],\n",
       "       [4.42533526e+12, 7.17372840e+12, 1.57122621e+13],\n",
       "       [4.42533526e+12, 7.17372840e+12, 1.57122621e+13],\n",
       "       [4.42533526e+12, 7.17372840e+12, 1.57122621e+13]])"
      ]
     },
     "execution_count": 8,
     "metadata": {},
     "output_type": "execute_result"
    }
   ],
   "source": [
    "c1 = c\n",
    "c2 = species_concentration(c, log_beta, stoichiometry, solid_stoichiometry)\n",
    "\n",
    "c1 + np.sum(c2[:,np.newaxis,:]*stoichiometry[np.newaxis, ...],axis=2) - c"
   ]
  },
  {
   "cell_type": "code",
   "execution_count": 3,
   "metadata": {},
   "outputs": [
    {
     "ename": "ValueError",
     "evalue": "operands could not be broadcast together with shapes (89,3) (3,16) ",
     "output_type": "error",
     "traceback": [
      "\u001b[0;31m---------------------------------------------------------------------------\u001b[0m",
      "\u001b[0;31mValueError\u001b[0m                                Traceback (most recent call last)",
      "Cell \u001b[0;32mIn[3], line 1\u001b[0m\n\u001b[0;32m----> 1\u001b[0m (\u001b[43mspecies_concentration\u001b[49m\u001b[43m(\u001b[49m\u001b[43mc\u001b[49m\u001b[43m,\u001b[49m\u001b[43m \u001b[49m\u001b[43mlog_beta\u001b[49m\u001b[43m,\u001b[49m\u001b[43m \u001b[49m\u001b[43mstoichiometry\u001b[49m\u001b[43m,\u001b[49m\u001b[43m \u001b[49m\u001b[43msolid_stoichiometry\u001b[49m\u001b[43m,\u001b[49m\u001b[43m \u001b[49m\u001b[43mfull\u001b[49m\u001b[38;5;241;43m=\u001b[39;49m\u001b[38;5;28;43;01mTrue\u001b[39;49;00m\u001b[43m)\u001b[49m[:,np\u001b[38;5;241m.\u001b[39mnewaxis,:] \u001b[38;5;241m*\u001b[39m full_stoichiometry)\u001b[38;5;241m.\u001b[39msum(axis\u001b[38;5;241m=\u001b[39m\u001b[38;5;241m2\u001b[39m)\n",
      "File \u001b[0;32m~/Coding/libeq/src/libeq/species_conc.py:60\u001b[0m, in \u001b[0;36mspecies_concentration\u001b[0;34m(concentration, log_beta, stoichiometry, solid_stoichiometry, full, logc)\u001b[0m\n\u001b[1;32m     57\u001b[0m \u001b[38;5;28;01melse\u001b[39;00m:\n\u001b[1;32m     58\u001b[0m     _c \u001b[38;5;241m=\u001b[39m np\u001b[38;5;241m.\u001b[39mlog10(concentration)\n\u001b[0;32m---> 60\u001b[0m cext \u001b[38;5;241m=\u001b[39m log_beta \u001b[38;5;241m+\u001b[39m (\u001b[43m_c\u001b[49m\u001b[43m \u001b[49m\u001b[38;5;241;43m*\u001b[39;49m\u001b[43m \u001b[49m\u001b[43mstoichiometry\u001b[49m)\u001b[38;5;241m.\u001b[39msum(axis\u001b[38;5;241m=\u001b[39m\u001b[38;5;241m1\u001b[39m)\n\u001b[1;32m     62\u001b[0m \u001b[38;5;28;01mif\u001b[39;00m solid_stoichiometry\u001b[38;5;241m.\u001b[39mshape[\u001b[38;5;241m0\u001b[39m] \u001b[38;5;241m>\u001b[39m \u001b[38;5;241m0\u001b[39m:\n\u001b[1;32m     63\u001b[0m     cext \u001b[38;5;241m=\u001b[39m np\u001b[38;5;241m.\u001b[39mconcatenate((cext, solid_stoichiometry \u001b[38;5;241m@\u001b[39m concentration[nc:]), axis\u001b[38;5;241m=\u001b[39m\u001b[38;5;241m1\u001b[39m)\n",
      "\u001b[0;31mValueError\u001b[0m: operands could not be broadcast together with shapes (89,3) (3,16) "
     ]
    }
   ],
   "source": [
    "(species_concentration(c, log_beta, stoichiometry, solid_stoichiometry, full=True)[:,np.newaxis,:] * full_stoichiometry).sum(axis=2)"
   ]
  },
  {
   "cell_type": "code",
   "execution_count": 65,
   "metadata": {},
   "outputs": [],
   "source": [
    "# Your 2D array\n",
    "arr = np.arange(32).reshape(2, 16)\n",
    "\n",
    "# Create a diagonal matrix from the rows of the array using broadcasting\n",
    "diag_matrices = np.einsum('ij,jk->ijk', arr, np.eye(arr.shape[1]))"
   ]
  },
  {
   "cell_type": "code",
   "execution_count": 61,
   "metadata": {},
   "outputs": [],
   "source": [
    "F = np.array([[1, 2, 3], [4, 5, 6]])"
   ]
  },
  {
   "cell_type": "code",
   "execution_count": 62,
   "metadata": {},
   "outputs": [
    {
     "data": {
      "text/plain": [
       "array([[[  96.,   42., -113.],\n",
       "        [  42.,  100.,  216.],\n",
       "        [-113.,  216., 1339.]],\n",
       "\n",
       "       [[ 352.,   90., -497.],\n",
       "        [  90.,  260.,  552.],\n",
       "        [-497.,  552., 3931.]]])"
      ]
     },
     "execution_count": 62,
     "metadata": {},
     "output_type": "execute_result"
    }
   ],
   "source": [
    "J = stoichiometry @ diag_matrices @ stoichiometry.T\n",
    "\n",
    "diagonal_indices = np.diag_indices(J.shape[1])\n",
    "J[:,diagonal_indices[0], diagonal_indices[1]] += arr[:, :3]\n",
    "J\n"
   ]
  },
  {
   "cell_type": "code",
   "execution_count": 64,
   "metadata": {},
   "outputs": [
    {
     "data": {
      "text/plain": [
       "array([[ 0.00481414, -0.02771813,  0.00263713],\n",
       "       [-0.00749229, -0.01622185, -0.00019568]])"
      ]
     },
     "execution_count": 64,
     "metadata": {},
     "output_type": "execute_result"
    }
   ],
   "source": [
    "dx = np.linalg.solve(J, -F)"
   ]
  }
 ],
 "metadata": {
  "kernelspec": {
   "display_name": "libeq-8i_JZAyh-py3.12",
   "language": "python",
   "name": "python3"
  },
  "language_info": {
   "codemirror_mode": {
    "name": "ipython",
    "version": 3
   },
   "file_extension": ".py",
   "mimetype": "text/x-python",
   "name": "python",
   "nbconvert_exporter": "python",
   "pygments_lexer": "ipython3",
   "version": "3.12.1"
  }
 },
 "nbformat": 4,
 "nbformat_minor": 2
}
